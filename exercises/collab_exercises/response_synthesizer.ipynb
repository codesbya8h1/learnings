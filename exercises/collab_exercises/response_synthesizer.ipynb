{
 "cells": [
  {
   "cell_type": "code",
   "execution_count": null,
   "metadata": {},
   "outputs": [],
   "source": [
    "!pip install llama-index"
   ]
  },
  {
   "cell_type": "code",
   "execution_count": 12,
   "metadata": {},
   "outputs": [
    {
     "name": "stdout",
     "output_type": "stream",
     "text": [
      "Node ID: 338e1b29-9a24-431f-a380-0bf0ad9daf7f\n",
      "Text: Apple is one of the biggest company in the world. Manufactures\n",
      "mobile phones, laptops and other devices like Ipad etc. \n",
      "\n",
      "Node ID: 9f6b566e-ca2f-4835-841e-e5024bb72cbe\n",
      "Text: Apple is a trillion dollar company and has a headquarter in San\n",
      "francisco, California \n",
      "\n"
     ]
    }
   ],
   "source": [
    "from llama_index import Document\n",
    "from llama_index.node_parser import SentenceSplitter\n",
    "\n",
    "text1=\"Apple is one of the biggest company in the world. Manufactures mobile phones, laptops and other devices like Ipad etc.\"\n",
    "text2=\"Apple is a trillion dollar company and has a headquarter in San francisco, California\"\n",
    "\n",
    "text_list =[text1, text2]\n",
    "documents = [Document(text=t) for t in text_list]\n",
    "\n",
    "parser = SentenceSplitter()\n",
    "nodes = parser.get_nodes_from_documents(documents)\n",
    "\n",
    "\n",
    "for node in nodes:\n",
    "    print(str(node),\"\\n\")"
   ]
  },
  {
   "cell_type": "code",
   "execution_count": 20,
   "metadata": {},
   "outputs": [
    {
     "name": "stdout",
     "output_type": "stream",
     "text": [
      "> Refine context: Apple is a trillion dollar company and has a he...\n"
     ]
    }
   ],
   "source": [
    "from llama_index.llms import OpenAI\n",
    "from llama_index.response_synthesizers import Refine\n",
    "from llama_index import ServiceContext\n",
    "from dotenv import load_dotenv\n",
    "\n",
    "load_dotenv()\n",
    "\n",
    "\n",
    "llm = OpenAI(model=\"gpt-3.5-turbo\")\n",
    "service_context = ServiceContext.from_defaults(llm=llm)\n",
    "summarizer = Refine(service_context=service_context, verbose=True)\n",
    "response = summarizer.get_response(\"What is apple and what does it do?\", text_list)"
   ]
  },
  {
   "cell_type": "code",
   "execution_count": 21,
   "metadata": {},
   "outputs": [
    {
     "name": "stdout",
     "output_type": "stream",
     "text": [
      "Apple is a company that is known for being one of the largest in the world. It is involved in the manufacturing of various electronic devices such as mobile phones, laptops, and tablets like the iPad. Additionally, Apple has its headquarters located in San Francisco, California.\n"
     ]
    }
   ],
   "source": [
    "print(response)"
   ]
  }
 ],
 "metadata": {
  "kernelspec": {
   "display_name": "base",
   "language": "python",
   "name": "python3"
  },
  "language_info": {
   "codemirror_mode": {
    "name": "ipython",
    "version": 3
   },
   "file_extension": ".py",
   "mimetype": "text/x-python",
   "name": "python",
   "nbconvert_exporter": "python",
   "pygments_lexer": "ipython3",
   "version": "3.9.7"
  }
 },
 "nbformat": 4,
 "nbformat_minor": 2
}
